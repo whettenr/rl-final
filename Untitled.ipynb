{
 "cells": [
  {
   "cell_type": "code",
   "execution_count": 2,
   "id": "ecf74d38",
   "metadata": {},
   "outputs": [],
   "source": [
    "import gym\n"
   ]
  },
  {
   "cell_type": "code",
   "execution_count": 3,
   "id": "8af656bd",
   "metadata": {},
   "outputs": [],
   "source": [
    "ENV_NAME = \"CartPole-v1\"\n",
    "env = gym.make(ENV_NAME)"
   ]
  },
  {
   "cell_type": "code",
   "execution_count": null,
   "id": "df0fc5a8",
   "metadata": {},
   "outputs": [],
   "source": [
    "env.reset()"
   ]
  },
  {
   "cell_type": "code",
   "execution_count": null,
   "id": "31e5d932",
   "metadata": {},
   "outputs": [],
   "source": [
    "env.render(mode='close')"
   ]
  },
  {
   "cell_type": "code",
   "execution_count": null,
   "id": "134b079b",
   "metadata": {},
   "outputs": [],
   "source": [
    "env.close()"
   ]
  },
  {
   "cell_type": "code",
   "execution_count": 4,
   "id": "a31e773a",
   "metadata": {},
   "outputs": [
    {
     "name": "stderr",
     "output_type": "stream",
     "text": [
      "2022-04-06 11:44:12.690 python[34465:1197609] Warning: Expected min height of view: (<NSPopoverTouchBarItemButton: 0x7f7e149338e0>) to be less than or equal to 30 but got a height of 32.000000. This error will be logged once per view in violation.\n",
      "2022-04-06 11:44:12.690 python[34465:1197609] Warning: Expected min height of view: (<NSButton: 0x7f7e14054020>) to be less than or equal to 30 but got a height of 32.000000. This error will be logged once per view in violation.\n",
      "2022-04-06 11:44:12.693 python[34465:1197609] Warning: Expected min height of view: (<NSPopoverTouchBarItemButton: 0x7f7e14066a10>) to be less than or equal to 30 but got a height of 32.000000. This error will be logged once per view in violation.\n",
      "2022-04-06 11:44:12.695 python[34465:1197609] Warning: Expected min height of view: (<NSPopoverTouchBarItemButton: 0x7f7e0e40fd80>) to be less than or equal to 30 but got a height of 32.000000. This error will be logged once per view in violation.\n"
     ]
    },
    {
     "ename": "NameError",
     "evalue": "name 'agent' is not defined",
     "output_type": "error",
     "traceback": [
      "\u001b[0;31m---------------------------------------------------------------------------\u001b[0m",
      "\u001b[0;31mNameError\u001b[0m                                 Traceback (most recent call last)",
      "\u001b[0;32m/var/folders/45/q82ywkcn7fnbcgzp5x_lv4880000gn/T/ipykernel_34465/2015190829.py\u001b[0m in \u001b[0;36m<module>\u001b[0;34m\u001b[0m\n\u001b[1;32m      4\u001b[0m \u001b[0;32mwhile\u001b[0m \u001b[0;32mnot\u001b[0m \u001b[0mdone\u001b[0m\u001b[0;34m:\u001b[0m\u001b[0;34m\u001b[0m\u001b[0;34m\u001b[0m\u001b[0m\n\u001b[1;32m      5\u001b[0m     \u001b[0menv\u001b[0m\u001b[0;34m.\u001b[0m\u001b[0mrender\u001b[0m\u001b[0;34m(\u001b[0m\u001b[0;34m)\u001b[0m\u001b[0;34m\u001b[0m\u001b[0;34m\u001b[0m\u001b[0m\n\u001b[0;32m----> 6\u001b[0;31m     \u001b[0maction\u001b[0m \u001b[0;34m=\u001b[0m \u001b[0magent\u001b[0m\u001b[0;34m.\u001b[0m\u001b[0mchoose_action\u001b[0m\u001b[0;34m(\u001b[0m\u001b[0mobservation\u001b[0m\u001b[0;34m)\u001b[0m\u001b[0;34m\u001b[0m\u001b[0;34m\u001b[0m\u001b[0m\n\u001b[0m\u001b[1;32m      7\u001b[0m     \u001b[0mobservation_\u001b[0m\u001b[0;34m,\u001b[0m \u001b[0mreward\u001b[0m\u001b[0;34m,\u001b[0m \u001b[0mdone\u001b[0m\u001b[0;34m,\u001b[0m \u001b[0minfo\u001b[0m \u001b[0;34m=\u001b[0m \u001b[0menv\u001b[0m\u001b[0;34m.\u001b[0m\u001b[0mstep\u001b[0m\u001b[0;34m(\u001b[0m\u001b[0maction\u001b[0m\u001b[0;34m)\u001b[0m\u001b[0;34m\u001b[0m\u001b[0;34m\u001b[0m\u001b[0m\n\u001b[1;32m      8\u001b[0m     \u001b[0mscore\u001b[0m \u001b[0;34m+=\u001b[0m \u001b[0mreward\u001b[0m\u001b[0;34m\u001b[0m\u001b[0;34m\u001b[0m\u001b[0m\n",
      "\u001b[0;31mNameError\u001b[0m: name 'agent' is not defined"
     ]
    }
   ],
   "source": [
    "done = False\n",
    "score=0\n",
    "observation = env.reset()\n",
    "while not done:\n",
    "    env.render()\n",
    "    action = agent.choose_action(observation)\n",
    "    observation_, reward, done, info = env.step(action)\n",
    "    score += reward\n",
    "\n",
    "    agent.store_transition(observation, action, reward, observation_, done)\n",
    "    agent.learn()\n",
    "    observation = observation_\n",
    "env.close()\n",
    "print(f'Score is:{score}')"
   ]
  },
  {
   "cell_type": "code",
   "execution_count": 11,
   "id": "67c0ed29",
   "metadata": {},
   "outputs": [],
   "source": [
    "pop_sizes = [10, 50, 100, 150, 200]\n",
    "mutate_rates = [0.01, 0.1, 0.5]\n",
    "\n",
    "for pop_size in pop_sizes:\n",
    "  for mutate_rate in mutate_rates:\n",
    "      info = \"\"\"[NEAT]\n",
    "      pop_size              = \"\"\" + str(pop_size) + \"\"\"\n",
    "      # Note: the fitness threshold will never be reached because\n",
    "      # we are controlling the termination ourselves based on simulation performance.\n",
    "      fitness_criterion     = max\n",
    "      fitness_threshold     = 1000.0\n",
    "      reset_on_extinction   = 0\n",
    "\n",
    "      [DefaultGenome]\n",
    "      num_inputs              = 4\n",
    "      num_hidden              = 0\n",
    "      num_outputs             = 2\n",
    "      initial_connection      = full\n",
    "      feed_forward            = True\n",
    "      compatibility_disjoint_coefficient = 1.0\n",
    "      compatibility_weight_coefficient   = 1.0\n",
    "      conn_add_prob           = \"\"\" + str(mutate_rate) + \"\"\"\n",
    "      conn_delete_prob        = \"\"\" + str(mutate_rate * 0.8) + \"\"\"\n",
    "      node_add_prob           = \"\"\" + str(mutate_rate) + \"\"\"\n",
    "      node_delete_prob        = \"\"\" + str(mutate_rate * 0.8) + \"\"\"\n",
    "      activation_default      = clamped\n",
    "      activation_options      = clamped\n",
    "      activation_mutate_rate  = 0.0\n",
    "      aggregation_default     = sum\n",
    "      aggregation_options     = sum\n",
    "      aggregation_mutate_rate = 0.0\n",
    "      bias_init_mean          = 0.0\n",
    "      bias_init_stdev         = 1.0\n",
    "      bias_replace_rate       = 0.02\n",
    "      bias_mutate_rate        = \"\"\" + str(mutate_rate) + \"\"\"\n",
    "      bias_mutate_power       = 0.4\n",
    "      bias_max_value          = 30.0\n",
    "      bias_min_value          = -30.0\n",
    "      response_init_mean      = 1.0\n",
    "      response_init_stdev     = 0.0\n",
    "      response_replace_rate   = 0.0\n",
    "      response_mutate_rate    = \"\"\" + str(mutate_rate) + \"\"\"\n",
    "      response_mutate_power   = 0.01\n",
    "      response_max_value      = 30.0\n",
    "      response_min_value      = -30.0\n",
    "\n",
    "      weight_max_value        = 30\n",
    "      weight_min_value        = -30\n",
    "      weight_init_mean        = 0.0\n",
    "      weight_init_stdev       = 1.0\n",
    "      weight_mutate_rate      = 0.8\n",
    "      weight_replace_rate     = 0.02\n",
    "      weight_mutate_power     = 0.4\n",
    "      enabled_default         = True\n",
    "      enabled_mutate_rate     = 0.01\n",
    "\n",
    "      [DefaultSpeciesSet]\n",
    "      compatibility_threshold = 3.0\n",
    "\n",
    "      [DefaultStagnation]\n",
    "      species_fitness_func = mean\n",
    "      max_stagnation       = 15\n",
    "      species_elitism      = 5\n",
    "\n",
    "      [DefaultReproduction]\n",
    "      elitism            = 2\n",
    "      survival_threshold = 0.2\"\"\"\n",
    "\n",
    "      with open('config_files/config-cp-'+str(pop_size)+'-'+str(mutate_rate*100)+'.txt', 'w') as f:\n",
    "          f.write(info)"
   ]
  },
  {
   "cell_type": "code",
   "execution_count": 2,
   "id": "9f0d42f8",
   "metadata": {},
   "outputs": [],
   "source": [
    "for pop_size in pop_sizes:\n",
    "  for mutate_rate in mutate_rates:\n",
    "      info = \"\"\"[NEAT]\n",
    "      pop_size              = \"\"\" + str(pop_size) + \"\"\"\n",
    "      # Note: the fitness threshold will never be reached because\n",
    "      # we are controlling the termination ourselves based on simulation performance.\n",
    "      fitness_criterion     = max\n",
    "      fitness_threshold     = 1000.0\n",
    "      reset_on_extinction   = 0\n",
    "\n",
    "      [DefaultGenome]\n",
    "      num_inputs              = 8\n",
    "      num_hidden              = 0\n",
    "      num_outputs             = 4\n",
    "      initial_connection      = full\n",
    "      feed_forward            = True\n",
    "      compatibility_disjoint_coefficient = 1.0\n",
    "      compatibility_weight_coefficient   = 1.0\n",
    "      conn_add_prob           = \"\"\" + str(mutate_rate) + \"\"\"\n",
    "      conn_delete_prob        = \"\"\" + str(mutate_rate * 0.8) + \"\"\"\n",
    "      node_add_prob           = \"\"\" + str(mutate_rate) + \"\"\"\n",
    "      node_delete_prob        = \"\"\" + str(mutate_rate * 0.8) + \"\"\"\n",
    "      activation_default      = clamped\n",
    "      activation_options      = clamped\n",
    "      activation_mutate_rate  = 0.0\n",
    "      aggregation_default     = sum\n",
    "      aggregation_options     = sum\n",
    "      aggregation_mutate_rate = 0.0\n",
    "      bias_init_mean          = 0.0\n",
    "      bias_init_stdev         = 1.0\n",
    "      bias_replace_rate       = 0.02\n",
    "      bias_mutate_rate        = \"\"\" + str(mutate_rate) + \"\"\"\n",
    "      bias_mutate_power       = 0.4\n",
    "      bias_max_value          = 30.0\n",
    "      bias_min_value          = -30.0\n",
    "      response_init_mean      = 1.0\n",
    "      response_init_stdev     = 0.0\n",
    "      response_replace_rate   = 0.0\n",
    "      response_mutate_rate    = \"\"\" + str(mutate_rate) + \"\"\"\n",
    "      response_mutate_power   = 0.01\n",
    "      response_max_value      = 30.0\n",
    "      response_min_value      = -30.0\n",
    "\n",
    "      weight_max_value        = 30\n",
    "      weight_min_value        = -30\n",
    "      weight_init_mean        = 0.0\n",
    "      weight_init_stdev       = 1.0\n",
    "      weight_mutate_rate      = 0.8\n",
    "      weight_replace_rate     = 0.02\n",
    "      weight_mutate_power     = 0.4\n",
    "      enabled_default         = True\n",
    "      enabled_mutate_rate     = 0.01\n",
    "\n",
    "      [DefaultSpeciesSet]\n",
    "      compatibility_threshold = 3.0\n",
    "\n",
    "      [DefaultStagnation]\n",
    "      species_fitness_func = mean\n",
    "      max_stagnation       = 15\n",
    "      species_elitism      = 5\n",
    "\n",
    "      [DefaultReproduction]\n",
    "      elitism            = 2\n",
    "      survival_threshold = 0.2\"\"\"\n",
    "\n",
    "      with open('config_files/config-ll-'+str(pop_size)+'-'+str(mutate_rate*100)+'.txt', 'w') as f:\n",
    "          f.write(info)"
   ]
  },
  {
   "cell_type": "code",
   "execution_count": 3,
   "id": "d4ef94d7",
   "metadata": {},
   "outputs": [],
   "source": [
    "mutate_rate = [0.01, 0.1, 0.5]\n"
   ]
  },
  {
   "cell_type": "code",
   "execution_count": 9,
   "id": "f1986eb5",
   "metadata": {},
   "outputs": [
    {
     "data": {
      "text/plain": [
       "array([0.008, 0.08 , 0.4  ])"
      ]
     },
     "execution_count": 9,
     "metadata": {},
     "output_type": "execute_result"
    }
   ],
   "source": [
    "np.array(mutate_rate) * 0.8"
   ]
  },
  {
   "cell_type": "code",
   "execution_count": 6,
   "id": "07bb6bcc",
   "metadata": {},
   "outputs": [],
   "source": [
    "import numpy as np"
   ]
  },
  {
   "cell_type": "code",
   "execution_count": null,
   "id": "0ab13426",
   "metadata": {},
   "outputs": [],
   "source": []
  }
 ],
 "metadata": {
  "kernelspec": {
   "display_name": "Python 3 (ipykernel)",
   "language": "python",
   "name": "python3"
  },
  "language_info": {
   "codemirror_mode": {
    "name": "ipython",
    "version": 3
   },
   "file_extension": ".py",
   "mimetype": "text/x-python",
   "name": "python",
   "nbconvert_exporter": "python",
   "pygments_lexer": "ipython3",
   "version": "3.8.8"
  }
 },
 "nbformat": 4,
 "nbformat_minor": 5
}
